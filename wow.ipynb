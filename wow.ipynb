{
    "metadata": {
        "kernelspec": {
            "name": "python3",
            "display_name": "Python 3"
        },
        "language_info": {
            "name": "python",
            "version": "3.6.6",
            "mimetype": "text/x-python",
            "codemirror_mode": {
                "name": "ipython",
                "version": 3
            },
            "pygments_lexer": "ipython3",
            "nbconvert_exporter": "python",
            "file_extension": ".py"
        }
    },
    "nbformat_minor": 2,
    "nbformat": 4,
    "cells": [
        {
            "cell_type": "code",
            "source": "!sqlcmd -S. -v v=\"1\" -Q\"select $(v)\"\r\n!powershell.exe write-host \"hello notebook!\"",
            "metadata": {},
            "outputs": [
                {
                    "name": "stdout",
                    "text": "hello notebook!\n",
                    "output_type": "stream"
                }
            ],
            "execution_count": 5
        },
        {
            "cell_type": "markdown",
            "source": "# 🐱‍👤 ",
            "metadata": {}
        },
        {
            "cell_type": "code",
            "source": "%%cmd\r\nwhoami\r\nver\r\n",
            "metadata": {},
            "outputs": [
                {
                    "name": "stdout",
                    "text": "Microsoft Windows [Version 10.0.17763.437]\r\n(c) 2018 Microsoft Corporation. All rights reserved.\r\n\r\nc:\\fleitasarts\\20190608-SQLSaturdaySFL864\\GameChanger>whoami\nupcic\\hfleitas\r\n\r\nc:\\fleitasarts\\20190608-SQLSaturdaySFL864\\GameChanger>ver\n\r\nMicrosoft Windows [Version 10.0.17763.437]\r\n\r\nc:\\fleitasarts\\20190608-SQLSaturdaySFL864\\GameChanger>",
                    "output_type": "stream"
                }
            ],
            "execution_count": 6
        },
        {
            "cell_type": "markdown",
            "source": "# 🧠",
            "metadata": {}
        }
    ]
}