{
    "metadata": {
        "kernelspec": {
            "name": "SQL",
            "display_name": "SQL",
            "language": "sql"
        },
        "language_info": {
            "name": "sql",
            "version": ""
        }
    },
    "nbformat_minor": 2,
    "nbformat": 4,
    "cells": [
        {
            "cell_type": "markdown",
            "source": "# ADS Lead SQL Notebook\r\n#### Created by [@HiramFleitas](http://twitter.com/hiramfleitas)\r\n![Gravatar](https://s.gravatar.com/avatar/a2f601b7a0fabf67b0caa008f9d93988?s=80\r\n \"Hiram\")",
            "metadata": {}
        },
        {
            "cell_type": "markdown",
            "source": "## Create database on **localhost** SQL Server 2019 ctp 2.4+",
            "metadata": {}
        },
        {
            "cell_type": "code",
            "source": "if db_id('FleitasArts') is null create database FleitasArts;\r\ngo",
            "metadata": {},
            "outputs": [],
            "execution_count": 9
        },
        {
            "cell_type": "markdown",
            "source": "## Use DB and Drop Tables If Exists\r\n",
            "metadata": {}
        },
        {
            "cell_type": "code",
            "source": "use FleitasArts\r\ngo\r\ndrop table if exists Ticket\r\ndrop table if exists Lead\r\ndrop table if exists CustomerAccount\r\ndrop table if exists Customer\r\ngo\r\nset nocount on;",
            "metadata": {},
            "outputs": [],
            "execution_count": 8
        },
        {
            "cell_type": "markdown",
            "source": "## Form Ref:\r\n1. HO4 = apt can be assumed to rent\r\n2. HO6 = condo and not rent\r\n3. HO3 = home and live in\r\n4. DP = home and rent out",
            "metadata": {}
        },
        {
            "cell_type": "markdown",
            "source": "## Add Tables",
            "metadata": {}
        },
        {
            "cell_type": "code",
            "source": "use FleitasArts\r\ngo\r\nif object_id('Customer') is null\r\nbegin\r\n\tcreate table Customer (\r\n \t\t [CustomerId]\tint identity(1,1)\r\n\t\t,[Name]\t\t\tnvarchar(256)\r\n\t\t,[Email]\t\tvarchar(320)\r\n\t\tconstraint pkCustomer primary key clustered ([CustomerId] asc)\r\n\t);\r\nend\r\ngo\r\nif object_id('CustomerAccount') is null\r\nbegin\r\n\tcreate table CustomerAccount (\r\n \t\t [CustomerAccountId]\tint identity(1,1)\r\n\t\t,[CustomerId]\t\t\tint foreign key references Customer(CustomerId)\r\n\t\t,[AcctNumEnding]\t\tint\r\n\t\tconstraint pkCustomerAccount primary key clustered ([CustomerAccountId] asc)\r\n\t);\r\nend\r\ngo\r\nif object_id('Lead') is null\r\nbegin\r\n\tcreate table Lead (\r\n \t\t [LeadId]\t\tint identity(1001,1)\r\n\t\t,[Name]\t\t\tnvarchar(256)\r\n\t\t,[Email]\t\tvarchar(320)\r\n\t\t--,[Phone]\t\tvarchar(20)\r\n\t\t,[Address]\t\tnvarchar(256)\r\n\t\t--,[Type]\t\tvarchar(25) --house, condo, apartment, townhouse\r\n\t\t--,[Occupancy]\tvarchar(25) --tenant, owner, seasonal, secondary, vacant.\r\n\t\t--,[Use]\t\tvarchar(25) --rent, rent out, live\r\n\t\t,[Status]\t\tbit default(0) -- 0 open / 1 closed\r\n\t\t,[CreatedBy]\tnvarchar(128)\r\n\t\t,[CreatedOn]\tdatetime default getdate()\r\n\t\t,[ModifiedBy]\tnvarchar(128) \r\n\t\t,[ModifiedOn]\tdatetime \r\n\t\tconstraint pkLeads primary key clustered ([LeadId] asc)\r\n\t);\r\nend\r\ngo\r\nif object_id('Ticket') is null\r\nbegin\r\n\tcreate table Ticket (\r\n \t\t [TicketId]\t\t\tint identity(2001,1)\r\n\t\t,[CustomerId]\t\tint \r\n\t\t,[AcctNumEnding]\tint\t\r\n\t\t,[Status]\t\t\tbit default(0) -- 0 open / 1 closed\r\n\t\t,[LeadId]\t\t\tint foreign key references Lead(LeadId)\r\n\t\t,[CreatedBy]\t\tnvarchar(128) default suser_name()\r\n\t\t,[CreatedOn]\t\tdatetime default getdate()\r\n\t\t,[ModifiedBy]\t\tnvarchar(128) default suser_name()\r\n\t\t,[ModifiedOn]\t\tdatetime default getdate()\r\n\t\tconstraint pkTicket primary key clustered ([TicketId] asc)\r\n\t);\r\nend\r\ngo",
            "metadata": {},
            "outputs": [],
            "execution_count": 0
        },
        {
            "cell_type": "markdown",
            "source": "## Add Data",
            "metadata": {}
        },
        {
            "cell_type": "code",
            "source": "use FleitasArts\r\ngo\r\ninsert Customer values \r\n ('Don',\t'dmoney@icloud.com'\t)\r\n,('Lou',\t'sweetlou@gmail.com')\r\n,('Jackie',\t'hr@icloud.com'\t\t)\r\ngo\r\ninsert CustomerAccount values \r\n (1, 9256)\r\n,(2, 7146)\r\n,(3, 6401)\r\ngo\r\ninsert Lead values\r\n ('Don', 'dmoney@icloud.com', '501 S Ocean Blvd, Palm Beach, FL 33480', 0, suser_name(), getdate(), null,null) --'561-805-9256', 'condo', 'seasonal', 'rent out', \r\n,('Tony', 'wakeboard@live.com', '401 E 65th St, Hialeah, FL 33013', 0, suser_name(), getdate(), null,null) --'786-381-4056', 'house', 'owner', 'live', \r\n,('Jackie', 'hr@icloud.com', '401 E 65th St, Hialeah, FL 33013', 0, suser_name(), getdate(), null,null) \r\n\r\n,('Kim', 'ciokim@icloud.com', '700 Lake Dr, Boca Raton, FL 33432', 0, suser_name(), getdate(), null,null)\r\n,('Fabina',\t'fabi@aol.com', '215 SE Spanish Trl, Boca Raton, FL 33432', 0, suser_name(), getdate(), null,null)\r\n,('Christina', 'csosa@live.com', '13 Sunset Key Dr, Key West, FL 33040', 0, suser_name(), getdate(), null,null)\r\ngo\r\ninsert Ticket values \r\n (1, 9256, 0, 1001, suser_name(), getdate(), null, null)\r\n,(3, 6401, 0, 1003, suser_name(), getdate(), null, null)\r\ngo",
            "metadata": {},
            "outputs": [],
            "execution_count": 0
        },
        {
            "cell_type": "markdown",
            "source": "## Get Tables",
            "metadata": {}
        },
        {
            "cell_type": "code",
            "source": "select * from Customer;\r\nselect * from CustomerAccount;\r\nselect * from Lead;\r\nselect * from Ticket;",
            "metadata": {},
            "outputs": [],
            "execution_count": 0
        },
        {
            "cell_type": "markdown",
            "source": "## Add CheckLead Proc",
            "metadata": {}
        },
        {
            "cell_type": "code",
            "source": "create or alter proc CheckLead (\r\n\t@Email\tvarchar(320) \r\n)\r\nas\r\n\tdeclare  @CustomerId int, @AcctNumEnd int;\r\n\r\n\tif object_id('tempdb.dbo.#CheckLead') is not null drop table #CheckLead;\r\n\tcreate table #CheckLead (AcctNumEnd\tint);\r\n\t\t\r\n\tif @Email is not null\r\n\tbegin\r\n\t\tselect @CustomerId = CustomerId from Customer where Email=@Email;\r\n\t\r\n\t\tinsert\t#CheckLead (AcctNumEnd)\r\n\t\tselect\tAcctNumEnding\r\n\t\tfrom\tCustomerAccount where CustomerId = @CustomerId;\r\n\r\n\t\tselect top 1 @AcctNumEnd=AcctNumEnd from #CheckLead;\r\n\r\n\t\tif @CustomerId is not null and @AcctNumEnd is not null\r\n\t\tbegin try\r\n\t\t\tselect\t\tt.TicketId, t.LeadId\r\n\t\t\tfrom\t\tTicket t\r\n\t\t\tinner join\t#CheckLead cl\r\n\t\t\t\ton\tcl.AcctNumEnd = t.[AcctNumEnding]\r\n\t\tend try\r\n\t\tbegin catch\r\n\t\t\tselect 'Check Failed' as Error;\r\n\t\t\tthrow;\r\n\t\tend catch\r\n\tend\r\ngo\r\nexec CheckLead @email='dmoney@icloud.com';\r\nexec CheckLead @email='wakeboard@live.com';\r\nexec CheckLead @email='hr@icloud.com';",
            "metadata": {},
            "outputs": [],
            "execution_count": 0
        },
        {
            "cell_type": "markdown",
            "source": "## Add LinkLead Proc",
            "metadata": {}
        },
        {
            "cell_type": "code",
            "source": "create or alter proc LinkLead (\r\n\t @LeadId\tint \r\n\t,@Email\t\tvarchar(320)\r\n\t,@Name\t\tnvarchar(256)\r\n)\r\nas\r\n\tdeclare  @CustomerId\tint \r\n\t\t\t,@TicketId\t\tint\r\n\t\t\t,@date\t\t\tdatetime;\r\n\r\n\t--select @CustomerId = CustomerId from Customer where Email=@Email;\r\n\tselect @LeadId = LeadId from Lead where Name=@Name and Email=@Email;\r\n\r\n\t--if @TicketId is not null and @CustomerId is not null\r\n\tbegin try\r\n\t\t/*update\tTicket \r\n\t\tset\t\tCustomerId = @CustomerId, LeadId = @LeadId,\r\n\t\t\t\tModifiedBy = suser_name(), ModifiedOn = getdate()\r\n\t\twhere\tTicketId = @TicketId*/\r\n\t\tinsert Ticket values (\r\n\t\t\tnull, null, 0, @LeadId, suser_name(), getdate(), null, null\r\n\t\t)\r\n\tend try\r\n\tbegin catch\r\n\t\tselect 'Link Failed' as Error;\r\n\t\tthrow;\r\n\tend catch\r\n\r\n\tselect\tTicketId, CustomerId, LeadId, Status, CreatedBy, CreatedOn, ModifiedBy \r\n\tfrom\tTicket \r\n\twhere\tLeadId = @LeadId\r\ngo\r\nexec LinkLead 1002, 'wakeboard@live.com', 'Tony'\r\ngo",
            "metadata": {},
            "outputs": [],
            "execution_count": 0
        },
        {
            "cell_type": "markdown",
            "source": "## Add DeleteLead Proc",
            "metadata": {}
        },
        {
            "cell_type": "code",
            "source": "create or alter proc DeleteLead (\r\n\t @Name\t\tnvarchar(256)\r\n\t,@Email\t\tvarchar(320)\r\n)\r\nas\r\n\tdeclare  @LeadId\tint \r\n\t\t\t,@TicketId\tint\r\n\r\n\tselect @LeadId = LeadId from Lead where Email=@Email and Name=@Name\r\n\tselect @TicketId = TicketId from Ticket where LeadId=@LeadId\r\n\r\n\tif @LeadId is not null\r\n\tbegin try\r\n\t\tdelete\ttop (1) from Ticket where @LeadId=LeadId\r\n\t\tdelete  top (1) from Lead where Email=@Email and Name=@Name\r\n\t\t\r\n\t\tselect 'Deleted:' as Msg, @LeadId as LeadId, @TicketId as TicketId\r\n\tend try\r\n\tbegin catch\r\n\t\tselect 'Delete Failed' as Error;\r\n\t\tthrow;\r\n\tend catch\r\ngo\r\nexec DeleteLead 'Jackie','hr@icloud.com';\r\n",
            "metadata": {},
            "outputs": [],
            "execution_count": 0
        }
    ]
}