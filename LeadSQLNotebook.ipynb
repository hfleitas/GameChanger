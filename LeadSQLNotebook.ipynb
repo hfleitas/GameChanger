{
    "metadata": {
        "kernelspec": {
            "name": "SQL",
            "display_name": "SQL",
            "language": "sql"
        },
        "language_info": {
            "name": "sql",
            "version": ""
        }
    },
    "nbformat_minor": 2,
    "nbformat": 4,
    "cells": [
        {
            "cell_type": "markdown",
            "source": "# ADS Lead SQL Notebook\r\n#### Created by [@HiramFleitas](http://twitter.com/hiramfleitas)\r\n![Hiram](https://media.licdn.com/dms/image/C4E03AQFo7vvpLPrFUw/profile-displayphoto-shrink_200_200/0?e=1561593600&v=beta&t=ZGV1zj9kr_Q1eP25jW8SA7lj8I9nuiWZ-kgv9l5m5V4 \"Hiram\")",
            "metadata": {}
        },
        {
            "cell_type": "markdown",
            "source": "## Create database on **localhost** SQL Server 2019 ctp 2.4+",
            "metadata": {}
        },
        {
            "cell_type": "code",
            "source": "if db_id('FleitasArts') is null create database FleitasArts;\r\ngo",
            "metadata": {},
            "outputs": [
                {
                    "output_type": "display_data",
                    "data": {
                        "text/html": "Commands completed successfully."
                    },
                    "metadata": {}
                },
                {
                    "output_type": "display_data",
                    "data": {
                        "text/html": "Total execution time: 00:00:00.4668331"
                    },
                    "metadata": {}
                }
            ],
            "execution_count": 1
        },
        {
            "cell_type": "markdown",
            "source": "## Switch DB Context and cleanout to start fresh\r\n",
            "metadata": {}
        },
        {
            "cell_type": "code",
            "source": "use FleitasArts\r\ngo\r\ndrop table if exists Ticket\r\ndrop table if exists Lead\r\ndrop table if exists CustomerAccount\r\ndrop table if exists Customer\r\ngo\r\nset nocount on;",
            "metadata": {},
            "outputs": [
                {
                    "output_type": "display_data",
                    "data": {
                        "text/html": "Commands completed successfully."
                    },
                    "metadata": {}
                },
                {
                    "output_type": "display_data",
                    "data": {
                        "text/html": "Total execution time: 00:00:00.0061084"
                    },
                    "metadata": {}
                },
                {
                    "output_type": "display_data",
                    "data": {
                        "text/html": "Commands completed successfully."
                    },
                    "metadata": {}
                },
                {
                    "output_type": "display_data",
                    "data": {
                        "text/html": "Total execution time: 00:00:00.0021093"
                    },
                    "metadata": {}
                },
                {
                    "output_type": "display_data",
                    "data": {
                        "text/html": "Commands completed successfully."
                    },
                    "metadata": {}
                },
                {
                    "output_type": "display_data",
                    "data": {
                        "text/html": "Total execution time: 00:00:00.0003328"
                    },
                    "metadata": {}
                }
            ],
            "execution_count": 2
        }
    ]
}