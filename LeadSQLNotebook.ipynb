{
    "metadata": {
        "kernelspec": {
            "name": "SQL",
            "display_name": "SQL",
            "language": "sql"
        },
        "language_info": {
            "name": "sql",
            "version": ""
        }
    },
    "nbformat_minor": 2,
    "nbformat": 4,
    "cells": [
        {
            "cell_type": "markdown",
            "source": "# ADS Lead SQL Notebook\r\n#### Created by [@HiramFleitas](http://twitter.com/hiramfleitas)\r\n![Gravatar](https://s.gravatar.com/avatar/a2f601b7a0fabf67b0caa008f9d93988?s=80\r\n \"Hiram\")",
            "metadata": {}
        },
        {
            "cell_type": "markdown",
            "source": "## Create database on **localhost** SQL Server 2019 ctp 2.4+",
            "metadata": {}
        },
        {
            "cell_type": "code",
            "source": "if db_id('FleitasArts') is null create database FleitasArts;\r\ngo",
            "metadata": {},
            "outputs": [
                {
                    "output_type": "display_data",
                    "data": {
                        "text/html": "Commands completed successfully."
                    },
                    "metadata": {}
                },
                {
                    "output_type": "display_data",
                    "data": {
                        "text/html": "Total execution time: 00:00:00.0008425"
                    },
                    "metadata": {}
                }
            ],
            "execution_count": 23
        },
        {
            "cell_type": "markdown",
            "source": "## Use DB and Drop Tables If Exists\r\n",
            "metadata": {}
        },
        {
            "cell_type": "code",
            "source": "use FleitasArts\r\ngo\r\ndrop table if exists Ticket\r\ndrop table if exists Lead\r\ndrop table if exists CustomerAccount\r\ndrop table if exists Customer\r\ngo\r\nset nocount on;",
            "metadata": {},
            "outputs": [
                {
                    "output_type": "display_data",
                    "data": {
                        "text/html": "Commands completed successfully."
                    },
                    "metadata": {}
                },
                {
                    "output_type": "display_data",
                    "data": {
                        "text/html": "Total execution time: 00:00:00.0008159"
                    },
                    "metadata": {}
                },
                {
                    "output_type": "display_data",
                    "data": {
                        "text/html": "Commands completed successfully."
                    },
                    "metadata": {}
                },
                {
                    "output_type": "display_data",
                    "data": {
                        "text/html": "Total execution time: 00:00:00.0139777"
                    },
                    "metadata": {}
                },
                {
                    "output_type": "display_data",
                    "data": {
                        "text/html": "Commands completed successfully."
                    },
                    "metadata": {}
                },
                {
                    "output_type": "display_data",
                    "data": {
                        "text/html": "Total execution time: 00:00:00.0003653"
                    },
                    "metadata": {}
                }
            ],
            "execution_count": 24
        },
        {
            "cell_type": "markdown",
            "source": "## Form Ref:\r\n1. HO4 = apt can be assumed to rent\r\n2. HO6 = condo and not rent\r\n3. HO3 = home and live in\r\n4. DP = home and rent out",
            "metadata": {}
        },
        {
            "cell_type": "markdown",
            "source": "## Add Tables",
            "metadata": {}
        },
        {
            "cell_type": "code",
            "source": "use FleitasArts\r\ngo\r\nif object_id('Customer') is null\r\nbegin\r\n\tcreate table Customer (\r\n \t\t [CustomerId]\tint identity(1,1)\r\n\t\t,[Name]\t\t\tnvarchar(256)\r\n\t\t,[Email]\t\tvarchar(320)\r\n\t\tconstraint pkCustomer primary key clustered ([CustomerId] asc)\r\n\t);\r\nend\r\ngo\r\nif object_id('CustomerAccount') is null\r\nbegin\r\n\tcreate table CustomerAccount (\r\n \t\t [CustomerAccountId]\tint identity(1,1)\r\n\t\t,[CustomerId]\t\t\tint foreign key references Customer(CustomerId)\r\n\t\t,[AcctNumEnding]\t\tint\r\n\t\tconstraint pkCustomerAccount primary key clustered ([CustomerAccountId] asc)\r\n\t);\r\nend\r\ngo\r\nif object_id('Lead') is null\r\nbegin\r\n\tcreate table Lead (\r\n \t\t [LeadId]\t\tint identity(1001,1)\r\n\t\t,[Name]\t\t\tnvarchar(256)\r\n\t\t,[Email]\t\tvarchar(320)\r\n\t\t--,[Phone]\t\tvarchar(20)\r\n\t\t,[Address]\t\tnvarchar(256)\r\n\t\t--,[Type]\t\tvarchar(25) --house, condo, apartment, townhouse\r\n\t\t--,[Occupancy]\tvarchar(25) --tenant, owner, seasonal, secondary, vacant.\r\n\t\t--,[Use]\t\tvarchar(25) --rent, rent out, live\r\n\t\t,[Status]\t\tbit default(0) -- 0 open / 1 closed\r\n\t\t,[CreatedBy]\tnvarchar(128) default suser_name()\r\n\t\t,[CreatedOn]\tdatetime default getdate()\r\n\t\t,[ModifiedBy]\tnvarchar(128) \r\n\t\t,[ModifiedOn]\tdatetime \r\n\t\tconstraint pkLeads primary key clustered ([LeadId] asc)\r\n\t);\r\nend\r\ngo\r\nif object_id('Ticket') is null\r\nbegin\r\n\tcreate table Ticket (\r\n \t\t [TicketId]\t\t\tint identity(2001,1)\r\n\t\t,[CustomerId]\t\tint \r\n\t\t,[AcctNumEnding]\tint\t\r\n\t\t,[Status]\t\t\tbit default(0) -- 0 open / 1 closed\r\n\t\t,[LeadId]\t\t\tint foreign key references Lead(LeadId)\r\n\t\t,[CreatedBy]\t\tnvarchar(128) default suser_name()\r\n\t\t,[CreatedOn]\t\tdatetime default getdate()\r\n\t\t,[ModifiedBy]\t\tnvarchar(128) default suser_name()\r\n\t\t,[ModifiedOn]\t\tdatetime default getdate()\r\n\t\tconstraint pkTicket primary key clustered ([TicketId] asc)\r\n\t);\r\nend\r\ngo",
            "metadata": {},
            "outputs": [
                {
                    "output_type": "display_data",
                    "data": {
                        "text/html": "Commands completed successfully."
                    },
                    "metadata": {}
                },
                {
                    "output_type": "display_data",
                    "data": {
                        "text/html": "Total execution time: 00:00:00.0007568"
                    },
                    "metadata": {}
                },
                {
                    "output_type": "display_data",
                    "data": {
                        "text/html": "Commands completed successfully."
                    },
                    "metadata": {}
                },
                {
                    "output_type": "display_data",
                    "data": {
                        "text/html": "Total execution time: 00:00:00.0072214"
                    },
                    "metadata": {}
                },
                {
                    "output_type": "display_data",
                    "data": {
                        "text/html": "Commands completed successfully."
                    },
                    "metadata": {}
                },
                {
                    "output_type": "display_data",
                    "data": {
                        "text/html": "Total execution time: 00:00:00.0037995"
                    },
                    "metadata": {}
                },
                {
                    "output_type": "display_data",
                    "data": {
                        "text/html": "Commands completed successfully."
                    },
                    "metadata": {}
                },
                {
                    "output_type": "display_data",
                    "data": {
                        "text/html": "Total execution time: 00:00:00.0037678"
                    },
                    "metadata": {}
                },
                {
                    "output_type": "display_data",
                    "data": {
                        "text/html": "Commands completed successfully."
                    },
                    "metadata": {}
                },
                {
                    "output_type": "display_data",
                    "data": {
                        "text/html": "Total execution time: 00:00:00.0048864"
                    },
                    "metadata": {}
                }
            ],
            "execution_count": 25
        },
        {
            "cell_type": "markdown",
            "source": "## Add Data",
            "metadata": {}
        },
        {
            "cell_type": "code",
            "source": "use FleitasArts\r\ngo\r\ninsert Customer values \r\n ('Don',\t'dmoney@icloud.com'\t)\r\n,('Lou',\t'sweetlou@gmail.com')\r\n,('Jackie',\t'hr@icloud.com'\t\t)\r\ngo\r\ninsert CustomerAccount values \r\n (1, 9256)\r\n,(2, 7146)\r\n,(3, 6401)\r\ngo\r\ninsert Lead values\r\n ('Don', 'dmoney@icloud.com', '501 S Ocean Blvd, Palm Beach, FL 33480', 0, suser_name(), getdate(), null,null) --'561-805-9256', 'condo', 'seasonal', 'rent out', \r\n,('Tony', 'wakeboard@live.com', '401 E 65th St, Hialeah, FL 33013', 0, suser_name(), getdate(), null,null) --'786-381-4056', 'house', 'owner', 'live', \r\n,('Jackie', 'hr@icloud.com', '401 E 65th St, Hialeah, FL 33013', 0, suser_name(), getdate(), null,null) \r\n\r\n,('Kim', 'ciokim@icloud.com', '700 Lake Dr, Boca Raton, FL 33432', 0, suser_name(), getdate(), null,null)\r\n,('Fabina',\t'fabi@aol.com', '215 SE Spanish Trl, Boca Raton, FL 33432', 0, suser_name(), getdate(), null,null)\r\n,('Christina', 'csosa@live.com', '13 Sunset Key Dr, Key West, FL 33040', 0, suser_name(), getdate(), null,null)\r\ngo\r\ninsert Ticket values \r\n (1, 9256, 0, 1001, suser_name(), getdate(), null, null)\r\n,(3, 6401, 0, 1003, suser_name(), getdate(), null, null)\r\ngo",
            "metadata": {},
            "outputs": [
                {
                    "output_type": "display_data",
                    "data": {
                        "text/html": "Commands completed successfully."
                    },
                    "metadata": {}
                },
                {
                    "output_type": "display_data",
                    "data": {
                        "text/html": "Total execution time: 00:00:00.0005601"
                    },
                    "metadata": {}
                },
                {
                    "output_type": "display_data",
                    "data": {
                        "text/html": "Commands completed successfully."
                    },
                    "metadata": {}
                },
                {
                    "output_type": "display_data",
                    "data": {
                        "text/html": "Total execution time: 00:00:00.0023642"
                    },
                    "metadata": {}
                },
                {
                    "output_type": "display_data",
                    "data": {
                        "text/html": "Commands completed successfully."
                    },
                    "metadata": {}
                },
                {
                    "output_type": "display_data",
                    "data": {
                        "text/html": "Total execution time: 00:00:00.0042322"
                    },
                    "metadata": {}
                },
                {
                    "output_type": "display_data",
                    "data": {
                        "text/html": "Commands completed successfully."
                    },
                    "metadata": {}
                },
                {
                    "output_type": "display_data",
                    "data": {
                        "text/html": "Total execution time: 00:00:00.0039620"
                    },
                    "metadata": {}
                },
                {
                    "output_type": "display_data",
                    "data": {
                        "text/html": "Commands completed successfully."
                    },
                    "metadata": {}
                },
                {
                    "output_type": "display_data",
                    "data": {
                        "text/html": "Total execution time: 00:00:00.0050745"
                    },
                    "metadata": {}
                }
            ],
            "execution_count": 26
        },
        {
            "cell_type": "markdown",
            "source": "## Get Tables",
            "metadata": {}
        },
        {
            "cell_type": "code",
            "source": "select * from Customer;\r\nselect * from CustomerAccount;\r\nselect * from Lead;\r\nselect * from Ticket;",
            "metadata": {},
            "outputs": [
                {
                    "output_type": "display_data",
                    "data": {
                        "text/html": "Commands completed successfully."
                    },
                    "metadata": {}
                },
                {
                    "output_type": "display_data",
                    "data": {
                        "text/html": "Total execution time: 00:00:00.0437870"
                    },
                    "metadata": {}
                },
                {
                    "output_type": "execute_result",
                    "metadata": {},
                    "execution_count": 27,
                    "data": {
                        "application/vnd.dataresource+json": {
                            "schema": {
                                "fields": [
                                    {
                                        "name": "CustomerId"
                                    },
                                    {
                                        "name": "Name"
                                    },
                                    {
                                        "name": "Email"
                                    }
                                ]
                            },
                            "data": [
                                {
                                    "0": "1",
                                    "1": "Don",
                                    "2": "dmoney@icloud.com"
                                },
                                {
                                    "0": "2",
                                    "1": "Lou",
                                    "2": "sweetlou@gmail.com"
                                },
                                {
                                    "0": "3",
                                    "1": "Jackie",
                                    "2": "hr@icloud.com"
                                }
                            ]
                        },
                        "text/html": "<table><tr><th>CustomerId</th><th>Name</th><th>Email</th></tr><tr><td>1</td><td>Don</td><td>dmoney@icloud.com</td></tr><tr><td>2</td><td>Lou</td><td>sweetlou@gmail.com</td></tr><tr><td>3</td><td>Jackie</td><td>hr@icloud.com</td></tr></table>"
                    }
                },
                {
                    "output_type": "execute_result",
                    "metadata": {},
                    "execution_count": 27,
                    "data": {
                        "application/vnd.dataresource+json": {
                            "schema": {
                                "fields": [
                                    {
                                        "name": "CustomerAccountId"
                                    },
                                    {
                                        "name": "CustomerId"
                                    },
                                    {
                                        "name": "AcctNumEnding"
                                    }
                                ]
                            },
                            "data": [
                                {
                                    "0": "1",
                                    "1": "1",
                                    "2": "9256"
                                },
                                {
                                    "0": "2",
                                    "1": "2",
                                    "2": "7146"
                                },
                                {
                                    "0": "3",
                                    "1": "3",
                                    "2": "6401"
                                }
                            ]
                        },
                        "text/html": "<table><tr><th>CustomerAccountId</th><th>CustomerId</th><th>AcctNumEnding</th></tr><tr><td>1</td><td>1</td><td>9256</td></tr><tr><td>2</td><td>2</td><td>7146</td></tr><tr><td>3</td><td>3</td><td>6401</td></tr></table>"
                    }
                },
                {
                    "output_type": "execute_result",
                    "metadata": {},
                    "execution_count": 27,
                    "data": {
                        "application/vnd.dataresource+json": {
                            "schema": {
                                "fields": [
                                    {
                                        "name": "LeadId"
                                    },
                                    {
                                        "name": "Name"
                                    },
                                    {
                                        "name": "Email"
                                    },
                                    {
                                        "name": "Address"
                                    },
                                    {
                                        "name": "Status"
                                    },
                                    {
                                        "name": "CreatedBy"
                                    },
                                    {
                                        "name": "CreatedOn"
                                    },
                                    {
                                        "name": "ModifiedBy"
                                    },
                                    {
                                        "name": "ModifiedOn"
                                    }
                                ]
                            },
                            "data": [
                                {
                                    "0": "1001",
                                    "1": "Don",
                                    "2": "dmoney@icloud.com",
                                    "3": "501 S Ocean Blvd, Palm Beach, FL 33480",
                                    "4": "0",
                                    "5": "UPCIC\\hfleitas",
                                    "6": "2019-05-24 11:07:58.460",
                                    "7": "NULL",
                                    "8": "NULL"
                                },
                                {
                                    "0": "1002",
                                    "1": "Tony",
                                    "2": "wakeboard@live.com",
                                    "3": "401 E 65th St, Hialeah, FL 33013",
                                    "4": "0",
                                    "5": "UPCIC\\hfleitas",
                                    "6": "2019-05-24 11:07:58.460",
                                    "7": "NULL",
                                    "8": "NULL"
                                },
                                {
                                    "0": "1003",
                                    "1": "Jackie",
                                    "2": "hr@icloud.com",
                                    "3": "401 E 65th St, Hialeah, FL 33013",
                                    "4": "0",
                                    "5": "UPCIC\\hfleitas",
                                    "6": "2019-05-24 11:07:58.460",
                                    "7": "NULL",
                                    "8": "NULL"
                                },
                                {
                                    "0": "1004",
                                    "1": "Kim",
                                    "2": "ciokim@icloud.com",
                                    "3": "700 Lake Dr, Boca Raton, FL 33432",
                                    "4": "0",
                                    "5": "UPCIC\\hfleitas",
                                    "6": "2019-05-24 11:07:58.460",
                                    "7": "NULL",
                                    "8": "NULL"
                                },
                                {
                                    "0": "1005",
                                    "1": "Fabina",
                                    "2": "fabi@aol.com",
                                    "3": "215 SE Spanish Trl, Boca Raton, FL 33432",
                                    "4": "0",
                                    "5": "UPCIC\\hfleitas",
                                    "6": "2019-05-24 11:07:58.460",
                                    "7": "NULL",
                                    "8": "NULL"
                                },
                                {
                                    "0": "1006",
                                    "1": "Christina",
                                    "2": "csosa@live.com",
                                    "3": "13 Sunset Key Dr, Key West, FL 33040",
                                    "4": "0",
                                    "5": "UPCIC\\hfleitas",
                                    "6": "2019-05-24 11:07:58.460",
                                    "7": "NULL",
                                    "8": "NULL"
                                }
                            ]
                        },
                        "text/html": "<table><tr><th>LeadId</th><th>Name</th><th>Email</th><th>Address</th><th>Status</th><th>CreatedBy</th><th>CreatedOn</th><th>ModifiedBy</th><th>ModifiedOn</th></tr><tr><td>1001</td><td>Don</td><td>dmoney@icloud.com</td><td>501 S Ocean Blvd, Palm Beach, FL 33480</td><td>0</td><td>UPCIC\\hfleitas</td><td>2019-05-24 11:07:58.460</td><td>NULL</td><td>NULL</td></tr><tr><td>1002</td><td>Tony</td><td>wakeboard@live.com</td><td>401 E 65th St, Hialeah, FL 33013</td><td>0</td><td>UPCIC\\hfleitas</td><td>2019-05-24 11:07:58.460</td><td>NULL</td><td>NULL</td></tr><tr><td>1003</td><td>Jackie</td><td>hr@icloud.com</td><td>401 E 65th St, Hialeah, FL 33013</td><td>0</td><td>UPCIC\\hfleitas</td><td>2019-05-24 11:07:58.460</td><td>NULL</td><td>NULL</td></tr><tr><td>1004</td><td>Kim</td><td>ciokim@icloud.com</td><td>700 Lake Dr, Boca Raton, FL 33432</td><td>0</td><td>UPCIC\\hfleitas</td><td>2019-05-24 11:07:58.460</td><td>NULL</td><td>NULL</td></tr><tr><td>1005</td><td>Fabina</td><td>fabi@aol.com</td><td>215 SE Spanish Trl, Boca Raton, FL 33432</td><td>0</td><td>UPCIC\\hfleitas</td><td>2019-05-24 11:07:58.460</td><td>NULL</td><td>NULL</td></tr><tr><td>1006</td><td>Christina</td><td>csosa@live.com</td><td>13 Sunset Key Dr, Key West, FL 33040</td><td>0</td><td>UPCIC\\hfleitas</td><td>2019-05-24 11:07:58.460</td><td>NULL</td><td>NULL</td></tr></table>"
                    }
                },
                {
                    "output_type": "execute_result",
                    "metadata": {},
                    "execution_count": 27,
                    "data": {
                        "application/vnd.dataresource+json": {
                            "schema": {
                                "fields": [
                                    {
                                        "name": "TicketId"
                                    },
                                    {
                                        "name": "CustomerId"
                                    },
                                    {
                                        "name": "AcctNumEnding"
                                    },
                                    {
                                        "name": "Status"
                                    },
                                    {
                                        "name": "LeadId"
                                    },
                                    {
                                        "name": "CreatedBy"
                                    },
                                    {
                                        "name": "CreatedOn"
                                    },
                                    {
                                        "name": "ModifiedBy"
                                    },
                                    {
                                        "name": "ModifiedOn"
                                    }
                                ]
                            },
                            "data": [
                                {
                                    "0": "2001",
                                    "1": "1",
                                    "2": "9256",
                                    "3": "0",
                                    "4": "1001",
                                    "5": "UPCIC\\hfleitas",
                                    "6": "2019-05-24 11:07:58.463",
                                    "7": "NULL",
                                    "8": "NULL"
                                },
                                {
                                    "0": "2002",
                                    "1": "3",
                                    "2": "6401",
                                    "3": "0",
                                    "4": "1003",
                                    "5": "UPCIC\\hfleitas",
                                    "6": "2019-05-24 11:07:58.463",
                                    "7": "NULL",
                                    "8": "NULL"
                                }
                            ]
                        },
                        "text/html": "<table><tr><th>TicketId</th><th>CustomerId</th><th>AcctNumEnding</th><th>Status</th><th>LeadId</th><th>CreatedBy</th><th>CreatedOn</th><th>ModifiedBy</th><th>ModifiedOn</th></tr><tr><td>2001</td><td>1</td><td>9256</td><td>0</td><td>1001</td><td>UPCIC\\hfleitas</td><td>2019-05-24 11:07:58.463</td><td>NULL</td><td>NULL</td></tr><tr><td>2002</td><td>3</td><td>6401</td><td>0</td><td>1003</td><td>UPCIC\\hfleitas</td><td>2019-05-24 11:07:58.463</td><td>NULL</td><td>NULL</td></tr></table>"
                    }
                }
            ],
            "execution_count": 27
        },
        {
            "cell_type": "markdown",
            "source": "## Add CheckLead Proc",
            "metadata": {}
        },
        {
            "cell_type": "code",
            "source": "create or alter proc CheckLead (\r\n\t@Email\tvarchar(320) \r\n)\r\nas\r\n\tdeclare  @CustomerId int, @AcctNumEnd int;\r\n\r\n\tif object_id('tempdb.dbo.#CheckLead') is not null drop table #CheckLead;\r\n\tcreate table #CheckLead (AcctNumEnd\tint);\r\n\t\t\r\n\tif @Email is not null\r\n\tbegin\r\n\t\tselect @CustomerId = CustomerId from Customer where Email=@Email;\r\n\t\r\n\t\tinsert\t#CheckLead (AcctNumEnd)\r\n\t\tselect\tAcctNumEnding\r\n\t\tfrom\tCustomerAccount where CustomerId = @CustomerId;\r\n\r\n\t\tselect top 1 @AcctNumEnd=AcctNumEnd from #CheckLead;\r\n\r\n\t\tif @CustomerId is not null and @AcctNumEnd is not null\r\n\t\tbegin try\r\n\t\t\tselect\t\tt.TicketId, t.LeadId\r\n\t\t\tfrom\t\tTicket t\r\n\t\t\tinner join\t#CheckLead cl\r\n\t\t\t\ton\tcl.AcctNumEnd = t.[AcctNumEnding]\r\n\t\tend try\r\n\t\tbegin catch\r\n\t\t\tselect 'Check Failed' as Error;\r\n\t\t\tthrow;\r\n\t\tend catch\r\n\tend\r\ngo\r\nexec CheckLead @email='dmoney@icloud.com';\r\nexec CheckLead @email='wakeboard@live.com';\r\nexec CheckLead @email='hr@icloud.com';",
            "metadata": {},
            "outputs": [
                {
                    "output_type": "display_data",
                    "data": {
                        "text/html": "Commands completed successfully."
                    },
                    "metadata": {}
                },
                {
                    "output_type": "display_data",
                    "data": {
                        "text/html": "Total execution time: 00:00:00.0032840"
                    },
                    "metadata": {}
                },
                {
                    "output_type": "display_data",
                    "data": {
                        "text/html": "Commands completed successfully."
                    },
                    "metadata": {}
                },
                {
                    "output_type": "display_data",
                    "data": {
                        "text/html": "Total execution time: 00:00:00.0193931"
                    },
                    "metadata": {}
                },
                {
                    "output_type": "execute_result",
                    "metadata": {},
                    "execution_count": 28,
                    "data": {
                        "application/vnd.dataresource+json": {
                            "schema": {
                                "fields": [
                                    {
                                        "name": "TicketId"
                                    },
                                    {
                                        "name": "LeadId"
                                    }
                                ]
                            },
                            "data": [
                                {
                                    "0": "2001",
                                    "1": "1001"
                                }
                            ]
                        },
                        "text/html": "<table><tr><th>TicketId</th><th>LeadId</th></tr><tr><td>2001</td><td>1001</td></tr></table>"
                    }
                },
                {
                    "output_type": "execute_result",
                    "metadata": {},
                    "execution_count": 28,
                    "data": {
                        "application/vnd.dataresource+json": {
                            "schema": {
                                "fields": [
                                    {
                                        "name": "TicketId"
                                    },
                                    {
                                        "name": "LeadId"
                                    }
                                ]
                            },
                            "data": [
                                {
                                    "0": "2002",
                                    "1": "1003"
                                }
                            ]
                        },
                        "text/html": "<table><tr><th>TicketId</th><th>LeadId</th></tr><tr><td>2002</td><td>1003</td></tr></table>"
                    }
                }
            ],
            "execution_count": 28
        },
        {
            "cell_type": "markdown",
            "source": "## Add LinkLead Proc",
            "metadata": {}
        },
        {
            "cell_type": "code",
            "source": "create or alter proc LinkLead (\r\n\t @LeadId\tint \r\n\t,@Email\t\tvarchar(320)\r\n\t,@Name\t\tnvarchar(256)\r\n)\r\nas\r\n\tdeclare  @CustomerId\tint \r\n\t\t\t,@TicketId\t\tint\r\n\t\t\t,@date\t\t\tdatetime;\r\n\r\n\t--select @CustomerId = CustomerId from Customer where Email=@Email;\r\n\tselect @LeadId = LeadId from Lead where Name=@Name and Email=@Email;\r\n\r\n\t--if @TicketId is not null and @CustomerId is not null\r\n\tbegin try\r\n\t\t/*update\tTicket \r\n\t\tset\t\tCustomerId = @CustomerId, LeadId = @LeadId,\r\n\t\t\t\tModifiedBy = suser_name(), ModifiedOn = getdate()\r\n\t\twhere\tTicketId = @TicketId*/\r\n\t\tinsert Ticket values (\r\n\t\t\tnull, null, 0, @LeadId, suser_name(), getdate(), null, null\r\n\t\t)\r\n\tend try\r\n\tbegin catch\r\n\t\tselect 'Link Failed' as Error;\r\n\t\tthrow;\r\n\tend catch\r\n\r\n\tselect\tTicketId, CustomerId, LeadId, Status, CreatedBy, CreatedOn, ModifiedBy \r\n\tfrom\tTicket \r\n\twhere\tLeadId = @LeadId\r\ngo\r\nexec LinkLead 1002, 'wakeboard@live.com', 'Tony'\r\ngo",
            "metadata": {},
            "outputs": [
                {
                    "output_type": "display_data",
                    "data": {
                        "text/html": "Commands completed successfully."
                    },
                    "metadata": {}
                },
                {
                    "output_type": "display_data",
                    "data": {
                        "text/html": "Total execution time: 00:00:00.0063366"
                    },
                    "metadata": {}
                },
                {
                    "output_type": "display_data",
                    "data": {
                        "text/html": "Commands completed successfully."
                    },
                    "metadata": {}
                },
                {
                    "output_type": "display_data",
                    "data": {
                        "text/html": "Total execution time: 00:00:00.0245468"
                    },
                    "metadata": {}
                },
                {
                    "output_type": "execute_result",
                    "metadata": {},
                    "execution_count": 29,
                    "data": {
                        "application/vnd.dataresource+json": {
                            "schema": {
                                "fields": [
                                    {
                                        "name": "TicketId"
                                    },
                                    {
                                        "name": "CustomerId"
                                    },
                                    {
                                        "name": "LeadId"
                                    },
                                    {
                                        "name": "Status"
                                    },
                                    {
                                        "name": "CreatedBy"
                                    },
                                    {
                                        "name": "CreatedOn"
                                    },
                                    {
                                        "name": "ModifiedBy"
                                    }
                                ]
                            },
                            "data": [
                                {
                                    "0": "2003",
                                    "1": "NULL",
                                    "2": "1002",
                                    "3": "0",
                                    "4": "UPCIC\\hfleitas",
                                    "5": "2019-05-24 11:07:59.990",
                                    "6": "NULL"
                                }
                            ]
                        },
                        "text/html": "<table><tr><th>TicketId</th><th>CustomerId</th><th>LeadId</th><th>Status</th><th>CreatedBy</th><th>CreatedOn</th><th>ModifiedBy</th></tr><tr><td>2003</td><td>NULL</td><td>1002</td><td>0</td><td>UPCIC\\hfleitas</td><td>2019-05-24 11:07:59.990</td><td>NULL</td></tr></table>"
                    }
                }
            ],
            "execution_count": 29
        },
        {
            "cell_type": "markdown",
            "source": "## Add DeleteLead Proc",
            "metadata": {}
        },
        {
            "cell_type": "code",
            "source": "create or alter proc DeleteLead (\r\n\t @Name\t\tnvarchar(256)\r\n\t,@Email\t\tvarchar(320)\r\n)\r\nas\r\n\tdeclare  @LeadId\tint \r\n\t\t\t,@TicketId\tint\r\n\r\n\tselect @LeadId = LeadId from Lead where Email=@Email and Name=@Name\r\n\tselect @TicketId = TicketId from Ticket where LeadId=@LeadId\r\n\r\n\tif @LeadId is not null\r\n\tbegin try\r\n\t\tdelete\ttop (1) from Ticket where @LeadId=LeadId\r\n\t\tdelete  top (1) from Lead where Email=@Email and Name=@Name\r\n\t\t\r\n\t\tselect 'Deleted:' as Msg, @LeadId as LeadId, @TicketId as TicketId\r\n\tend try\r\n\tbegin catch\r\n\t\tselect 'Delete Failed' as Error;\r\n\t\tthrow;\r\n\tend catch\r\ngo\r\nexec DeleteLead 'Jackie','hr@icloud.com';\r\n",
            "metadata": {},
            "outputs": [
                {
                    "output_type": "display_data",
                    "data": {
                        "text/html": "Commands completed successfully."
                    },
                    "metadata": {}
                },
                {
                    "output_type": "display_data",
                    "data": {
                        "text/html": "Total execution time: 00:00:00.0060378"
                    },
                    "metadata": {}
                },
                {
                    "output_type": "display_data",
                    "data": {
                        "text/html": "Commands completed successfully."
                    },
                    "metadata": {}
                },
                {
                    "output_type": "display_data",
                    "data": {
                        "text/html": "Total execution time: 00:00:00.0076195"
                    },
                    "metadata": {}
                },
                {
                    "output_type": "execute_result",
                    "metadata": {},
                    "execution_count": 30,
                    "data": {
                        "application/vnd.dataresource+json": {
                            "schema": {
                                "fields": [
                                    {
                                        "name": "Msg"
                                    },
                                    {
                                        "name": "LeadId"
                                    },
                                    {
                                        "name": "TicketId"
                                    }
                                ]
                            },
                            "data": [
                                {
                                    "0": "Deleted:",
                                    "1": "1003",
                                    "2": "2002"
                                }
                            ]
                        },
                        "text/html": "<table><tr><th>Msg</th><th>LeadId</th><th>TicketId</th></tr><tr><td>Deleted:</td><td>1003</td><td>2002</td></tr></table>"
                    }
                }
            ],
            "execution_count": 30
        },
        {
            "cell_type": "markdown",
            "source": "## Add AddLead Proc",
            "metadata": {}
        },
        {
            "cell_type": "code",
            "source": "create or alter proc AddLead (\r\n\t @Name\t    nvarchar(256) \r\n\t,@Email\t\tvarchar(320)\r\n\t,@Address\tnvarchar(256)\r\n)\r\nas\r\n    declare @LeadId int;\r\n\tif not exists (select   top 1 LeadId\r\n                    from    Lead\r\n                    where   Name = @Name and Email = @Email and Address = @Address) \r\n    begin try\r\n        insert Lead (Name, Email, Address) values (@Name, @Email, @Address);\r\n        select max(LeadId) from Lead\r\n    end try \r\n    begin catch\r\n        select 'Add Failed' as Error;\r\n        throw;\r\n    end catch\r\n\tselect  LeadId, Name, Email, Address\r\n    from    Lead \r\n    where   Name = @Name and Email = @Email and Address = @Address\r\ngo\r\nexec AddLead 'Ryan', 'ryan@outlook.com', '750 Lake Dr, Boca Raton, FL 33432'\r\ngo",
            "metadata": {},
            "outputs": [
                {
                    "output_type": "display_data",
                    "data": {
                        "text/html": "Commands completed successfully."
                    },
                    "metadata": {}
                },
                {
                    "output_type": "display_data",
                    "data": {
                        "text/html": "Total execution time: 00:00:00.0060072"
                    },
                    "metadata": {}
                },
                {
                    "output_type": "display_data",
                    "data": {
                        "text/html": "Commands completed successfully."
                    },
                    "metadata": {}
                },
                {
                    "output_type": "display_data",
                    "data": {
                        "text/html": "Total execution time: 00:00:00.0139021"
                    },
                    "metadata": {}
                },
                {
                    "output_type": "execute_result",
                    "metadata": {},
                    "execution_count": 31,
                    "data": {
                        "application/vnd.dataresource+json": {
                            "schema": {
                                "fields": [
                                    {
                                        "name": "(No column name)"
                                    }
                                ]
                            },
                            "data": [
                                {
                                    "0": "1007"
                                }
                            ]
                        },
                        "text/html": "<table><tr><th>(No column name)</th></tr><tr><td>1007</td></tr></table>"
                    }
                },
                {
                    "output_type": "execute_result",
                    "metadata": {},
                    "execution_count": 31,
                    "data": {
                        "application/vnd.dataresource+json": {
                            "schema": {
                                "fields": [
                                    {
                                        "name": "LeadId"
                                    },
                                    {
                                        "name": "Name"
                                    },
                                    {
                                        "name": "Email"
                                    },
                                    {
                                        "name": "Address"
                                    }
                                ]
                            },
                            "data": [
                                {
                                    "0": "1007",
                                    "1": "Ryan",
                                    "2": "ryan@outlook.com",
                                    "3": "750 Lake Dr, Boca Raton, FL 33432"
                                }
                            ]
                        },
                        "text/html": "<table><tr><th>LeadId</th><th>Name</th><th>Email</th><th>Address</th></tr><tr><td>1007</td><td>Ryan</td><td>ryan@outlook.com</td><td>750 Lake Dr, Boca Raton, FL 33432</td></tr></table>"
                    }
                }
            ],
            "execution_count": 31
        },
        {
            "cell_type": "markdown",
            "source": "## Creds \r\n## 🔐",
            "metadata": {}
        },
        {
            "cell_type": "code",
            "source": "--Win Auth\r\nuse master\r\ngo\r\nif suser_sid('FleitasArts\\Leads') is null\r\nbegin \r\n    create login [FleitasArts\\Leads] from windows with default_database = [tempdb];        \r\nend\r\nuse FleitasArts\r\ngo\r\nif user_id('FleitasArts\\Leads') is null \r\nbegin\r\n    create user [FleitasArts\\Leads] for login [FleitasArts\\Leads];\r\nend \r\nalter role [db_datareader] add member [FleitasArts\\Leads];\r\ngrant execute to [FleitasArts\\Leads];\r\ngo\r\n\r\n--SQL Auth\r\nuse master\r\ngo\r\nif suser_id('Leads') is null \r\nbegin \r\n    create login [Leads] with password = N'redacted', \r\n        default_database = [tempdb],\r\n        check_expiration = off,\r\n        check_policy = off;\r\nend\r\nuse FleitasArts\r\ngo\r\nif user_id('Leads') is null\r\nbegin\r\n    create user Leads for login Leads;\r\nend \r\nalter role [db_datareader] add member [Leads];\r\ngrant execute to Leads;\r\ngo",
            "metadata": {},
            "outputs": [
                {
                    "output_type": "display_data",
                    "data": {
                        "text/html": "Commands completed successfully."
                    },
                    "metadata": {}
                },
                {
                    "output_type": "display_data",
                    "data": {
                        "text/html": "Total execution time: 00:00:00.0006297"
                    },
                    "metadata": {}
                },
                {
                    "output_type": "error",
                    "evalue": "Msg 15401, Level 16, State 1, Line 5\r\nWindows NT user or group 'FleitasArts\\Leads' not found. Check the name again.",
                    "ename": "",
                    "traceback": []
                },
                {
                    "output_type": "display_data",
                    "data": {
                        "text/html": "Total execution time: 00:00:00.9213594"
                    },
                    "metadata": {}
                },
                {
                    "output_type": "error",
                    "evalue": "Msg 15401, Level 16, State 1, Line 11\r\nWindows NT user or group 'FleitasArts\\Leads' not found. Check the name again.",
                    "ename": "",
                    "traceback": []
                },
                {
                    "output_type": "error",
                    "evalue": "Msg 15151, Level 16, State 1, Line 13\r\nCannot add the principal 'FleitasArts\\Leads', because it does not exist or you do not have permission.",
                    "ename": "",
                    "traceback": []
                },
                {
                    "output_type": "error",
                    "evalue": "Msg 15151, Level 16, State 1, Line 14\r\nCannot find the user 'FleitasArts\\Leads', because it does not exist or you do not have permission.",
                    "ename": "",
                    "traceback": []
                },
                {
                    "output_type": "display_data",
                    "data": {
                        "text/html": "Total execution time: 00:00:00.4316796"
                    },
                    "metadata": {}
                },
                {
                    "output_type": "display_data",
                    "data": {
                        "text/html": "Commands completed successfully."
                    },
                    "metadata": {}
                },
                {
                    "output_type": "display_data",
                    "data": {
                        "text/html": "Total execution time: 00:00:00.0005595"
                    },
                    "metadata": {}
                },
                {
                    "output_type": "display_data",
                    "data": {
                        "text/html": "Commands completed successfully."
                    },
                    "metadata": {}
                },
                {
                    "output_type": "display_data",
                    "data": {
                        "text/html": "Total execution time: 00:00:00.0006687"
                    },
                    "metadata": {}
                },
                {
                    "output_type": "display_data",
                    "data": {
                        "text/html": "Commands completed successfully."
                    },
                    "metadata": {}
                },
                {
                    "output_type": "display_data",
                    "data": {
                        "text/html": "Total execution time: 00:00:00.0053812"
                    },
                    "metadata": {}
                }
            ],
            "execution_count": 32
        }
    ]
}