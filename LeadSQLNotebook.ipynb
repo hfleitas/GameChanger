{
    "metadata": {
        "kernelspec": {
            "name": "SQL",
            "display_name": "SQL",
            "language": "sql"
        },
        "language_info": {
            "name": "sql",
            "version": ""
        }
    },
    "nbformat_minor": 2,
    "nbformat": 4,
    "cells": [
        {
            "cell_type": "markdown",
            "source": "Create database on localhost SQL Server 2019 ctp 2.4+",
            "metadata": {}
        },
        {
            "cell_type": "code",
            "source": "if db_id('FleitasArts') is null create database FleitasArts;\r\ngo",
            "metadata": {},
            "outputs": [],
            "execution_count": 4
        }
    ]
}